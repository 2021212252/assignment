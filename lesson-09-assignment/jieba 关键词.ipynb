{
 "cells": [
  {
   "cell_type": "code",
   "execution_count": 1,
   "id": "f42aed83",
   "metadata": {},
   "outputs": [],
   "source": [
    "import jieba.analyse\n",
    "\n"
   ]
  },
  {
   "cell_type": "code",
   "execution_count": 2,
   "id": "fbfbfdf2",
   "metadata": {},
   "outputs": [],
   "source": [
    "# 从文本文件中读取文本内容，并作简单清洗\n",
    "with open('迈向充满希望的新世纪.txt', 'r', encoding='utf-8') as file:\n",
    "    # 去除换行符，使文本连续\n",
    "    TEXT = file.read().replace('\\n', '')"
   ]
  },
  {
   "cell_type": "code",
   "execution_count": 4,
   "id": "30798169",
   "metadata": {},
   "outputs": [],
   "source": [
    "# 使用 jieba 进行 TF-IDF 算法提取文本关键词\n",
    "keywords = jieba.analyse.extract_tags(\n",
    "    sentence=TEXT,    # 文本内容\n",
    "    topK=5,          # 提取的关键词数量\n",
    "    allowPOS=['n','nz','v', 'vd', 'vn', 'ns', 'nr'],  # 允许的关键词的词性\n",
    "    withWeight=True,  # 是否附带词语权重\n",
    "    withFlag=True,    # 是否附带词语词性\n",
    ")"
   ]
  },
  {
   "cell_type": "code",
   "execution_count": 5,
   "id": "81fceadf",
   "metadata": {},
   "outputs": [
    {
     "data": {
      "text/plain": [
       "[(pair('中国', 'ns'), 0.18347398100969695),\n",
       " (pair('发展', 'vn'), 0.14083587622945454),\n",
       " (pair('国际', 'n'), 0.10844149820630303),\n",
       " (pair('人民', 'n'), 0.09471569273327274),\n",
       " (pair('世界', 'n'), 0.09264456314845455)]"
      ]
     },
     "execution_count": 5,
     "metadata": {},
     "output_type": "execute_result"
    }
   ],
   "source": [
    "\n",
    "# 输出提取到的关键词\n",
    "keywords\n",
    "\n"
   ]
  },
  {
   "cell_type": "code",
   "execution_count": null,
   "id": "1516f52b",
   "metadata": {},
   "outputs": [],
   "source": []
  },
  {
   "cell_type": "code",
   "execution_count": null,
   "id": "87f91bca",
   "metadata": {},
   "outputs": [],
   "source": []
  },
  {
   "cell_type": "code",
   "execution_count": null,
   "id": "4f3de905",
   "metadata": {},
   "outputs": [],
   "source": []
  },
  {
   "cell_type": "code",
   "execution_count": null,
   "metadata": {},
   "outputs": [],
   "source": []
  }
 ],
 "metadata": {
  "kernelspec": {
   "display_name": "Python 3",
   "language": "python",
   "name": "python3"
  },
  "language_info": {
   "codemirror_mode": {
    "name": "ipython",
    "version": 3
   },
   "file_extension": ".py",
   "mimetype": "text/x-python",
   "name": "python",
   "nbconvert_exporter": "python",
   "pygments_lexer": "ipython3",
   "version": "3.11.9"
  }
 },
 "nbformat": 4,
 "nbformat_minor": 5
}
